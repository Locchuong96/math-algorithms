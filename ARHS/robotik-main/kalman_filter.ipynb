{
 "cells": [
  {
   "cell_type": "code",
   "execution_count": 1,
   "metadata": {},
   "outputs": [],
   "source": [
    "%matplotlib inline\n",
    "import numpy as np\n",
    "import matplotlib.pyplot as plt"
   ]
  },
  {
   "cell_type": "markdown",
   "metadata": {},
   "source": [
    "# Kalman filter: quick recap"
   ]
  },
  {
   "cell_type": "markdown",
   "metadata": {},
   "source": [
    "Watch the intro video: https://youtu.be/5Y-dnt2tNKY\n",
    "\n",
    "Kalman filter (KF) is one of the most used state estimation algorithms in robotics applications. We may already know the motion model of a robot that allows us to know how the state of the robot evolves over time given its initial state. However, we always have to deal with imperfect motion model for various reasons (e.g., imperfect parts, etc.). Although robots typically have various sensors to also help in estimating the state of the robot, sensors are also noisy. With Kalman filter, we can combine the prediction from our motion model with the sensor measurement to get a better state estimate.\n",
    "\n",
    "Remember the assumptions used in Kalman filter:\n",
    "1. Linear dynamics with Gaussian noise $\\mathbf{x}_{t} = A \\mathbf{x}_{t-1} + B \\mathbf{u}_{t-1} + \\mathbf{w}_{t}$ where $\\mathbf{w}_{t} \\sim \\mathcal{N}(0, Q)$\n",
    "2. Linear measurement model with Gaussian noise $\\mathbf{z}_t = H \\mathbf{x}_t + \\mathbf{n}_t$ where $\\mathbf{n}_t \\sim \\mathcal{N}(0, R)$\n",
    "3. Gaussian prior $bel(\\mathbf{x}_0) \\sim \\mathcal{N}(\\mu_0, \\Sigma_0)$\n",
    "\n",
    "In Kalman filter, there are two main steps that we need to perform. These are the prediction and update steps. We perform the prediction step to compute our new belief state after we apply a control signal $u_t$ to our robot following the motion model. After we apply a control signal $u_t$, we assume to have received a sensor measurement $z_t$, and we perform the update step to update the belief state based on the sensor measurement.\n",
    "\n",
    "Prediction step:\n",
    "1. $\\mu_{t|t-1} = A\\mu_{t-1|t-1} + B\\mathbf{u}_{t-1}$\n",
    "2. $\\Sigma_{t|t-1} = A\\Sigma_{t-1|t-1}A^T + Q$\n",
    "\n",
    "Update step:\n",
    "1. Get measurement $\\mathbf{z}_{t}$\n",
    "2. Compute mean and covariance of the prediction residual $\\delta_{\\mu} = \\mathbf{z}_{t} - H\\mu_{t|t-1}$ and $\\delta_{\\Sigma} = H \\Sigma_{t|t-1} H^T + R$\n",
    "3. Compute Kalman gain $K_{t} = \\Sigma_{t|t-1} H^T \\delta_{\\Sigma}^{-1}$\n",
    "4. Compute mean and covariance of the belief $\\mu_{t | t} = \\mu_{t | t-1} + K\\delta_{\\mu}$ and $\\Sigma_{t | t} = \\Sigma_{t|t-1} - KH\\Sigma_{t|t-1}$\n",
    "\n",
    "Let's take a look at a the example we discussed in the intro video."
   ]
  },
  {
   "cell_type": "markdown",
   "metadata": {},
   "source": [
    "**Example: estimating robot position with KF**\n",
    "\n",
    "We have a robot moving in a room without obstacles that is equipped with sensors to measure distance between the robot and the walls, which allows the robot to measure the location of the robot  in the room (i.e., its $x$ and $y$ coordinates). For simplicity, let's assume we have a sensor that directly measure the $(x,y)$ location of the robot in the room. These sensors are not perfect, but we know how innacurate these sensors are (i.e., we know the measurement model). In addition, we also know the motion model of the robot. This means that we know the $A$, $B$, $Q$, $H$, and $R$ matrices:\n",
    "\n",
    "$$\n",
    "A = \n",
    "\\begin{bmatrix}\n",
    "1 & 0 \\\\\n",
    "0 & 1\n",
    "\\end{bmatrix}\n",
    "$$\n",
    "\n",
    "$$\n",
    "B = \n",
    "\\begin{bmatrix}\n",
    "1 & 0 \\\\\n",
    "0 & 1\n",
    "\\end{bmatrix}\n",
    "$$\n",
    "\n",
    "$$\n",
    "Q = \n",
    "\\begin{bmatrix}\n",
    "0.3 & 0 \\\\\n",
    "0 & 0.3\n",
    "\\end{bmatrix}\n",
    "$$\n",
    "\n",
    "$$\n",
    "H = \n",
    "\\begin{bmatrix}\n",
    "1 & 0 \\\\\n",
    "0 & 1\n",
    "\\end{bmatrix}\n",
    "$$\n",
    "\n",
    "$$\n",
    "R = \n",
    "\\begin{bmatrix}\n",
    "0.75 & 0.0 \\\\\n",
    "0.0 & 0.6\n",
    "\\end{bmatrix}\n",
    "$$\n",
    "\n",
    "The state of the robot is its $x$ and $y$ position in the room, and the control inputs are the velocity in each direction $v_x$ and $v_y$. The robot is initialized at $(x,y) = (0,0)$, and moves by applying constant control inputs $v_x = v_y = 1$ for 10 time steps. Assume the initial belief state as the following:\n",
    "\n",
    "$$\n",
    "\\mu_0 = \n",
    "\\begin{bmatrix}\n",
    "0 \\\\\n",
    "0\n",
    "\\end{bmatrix}\n",
    "$$\n",
    "\n",
    "$$\n",
    "\\Sigma_0 = \n",
    "\\begin{bmatrix}\n",
    "0.1 & 0\\\\\n",
    "0 & 0.1\n",
    "\\end{bmatrix}\n",
    "$$\n",
    "\n",
    "Task: use Kalman filter to get a better estimate of where the robot is at each time step!"
   ]
  },
  {
   "cell_type": "markdown",
   "metadata": {},
   "source": [
    "**Understanding the problem**\n",
    "\n",
    "To understand the problem and motivate our desire to use Kalman filter, let's plot and compare the ideal trajectory with motion model trajectory as well as some possible measurements that we would get using the available sensors according to their specifications. Since we are not using an actual robot with a sensor, we will simulate the sensor measurements using the measurement model."
   ]
  },
  {
   "cell_type": "code",
   "execution_count": 2,
   "metadata": {},
   "outputs": [
    {
     "data": {
      "image/png": "[encoded data removed]",
      "text/plain": [
       "<Figure size 432x288 with 1 Axes>"
      ]
     },
     "metadata": {
      "needs_background": "light"
     },
     "output_type": "display_data"
    }
   ],
   "source": [
    "# state = [x_pos, y_pos]\n",
    "num_steps = 10\n",
    "ground_truth_xs = np.linspace(0, 10, num=num_steps + 1) # [0, 1, ..., 10]\n",
    "ground_truth_ys = ground_truth_xs.copy() # x = y\n",
    "ground_truth_states = np.stack((ground_truth_xs,ground_truth_ys), axis=1) # ground_truth_states is [[0,0], [1,1], ..., [10,10]]\n",
    "\n",
    "\n",
    "# Simulate motion with our noisy motion model\n",
    "x_0, y_0 = 0, 0 # given initial position at (0,0)\n",
    "motion_states = [np.array([x_0, y_0])] # a list to store state at each step following noisy motion model\n",
    "u_t = np.array([1.0, 1.0]) # given constant control input\n",
    "A = np.array([[1, 0],\n",
    "              [0, 1]])\n",
    "B = np.array([[1, 0],\n",
    "              [0, 1]])\n",
    "Q = np.array([[0.3, 0],\n",
    "              [0, 0.3]]) # given Q matrix\n",
    "for _ in range(10):\n",
    "    motion_noise = np.random.multivariate_normal(mean=np.array([0,0]), cov=Q) # ~N(0,Q)\n",
    "    new_state = A @ motion_states[-1] + B @ u_t + motion_noise # note: a @ b = np.dot(a,b)\n",
    "    motion_states.append(new_state)\n",
    "    \n",
    "    \n",
    "# Simulate measurements with our noisy measurement model\n",
    "# In real life, we are supposed to get these directly from our sensor\n",
    "measurement_states = [np.array([x_0, y_0])] # # a list to store state at each step following noisy measurement model, assume we have perfect initial measurement\n",
    "H = np.array([[1, 0],\n",
    "              [0, 1]]) # given H matrix\n",
    "R = np.array([[0.75, 0],\n",
    "              [0, 0.6]]) # given R matrix\n",
    "for i in range(10):\n",
    "    measurement_noise = np.random.multivariate_normal(mean=np.array([0,0]), cov=R) # ~N(0,R)\n",
    "    new_measurement = H @ ground_truth_states[i+1] + measurement_noise # this is z_t\n",
    "    measurement_states.append(new_measurement)\n",
    "\n",
    "    \n",
    "# Convert motion_states and measurement_states to array so we can plot them easily\n",
    "motion_states = np.array(motion_states)\n",
    "measurement_states = np.array(measurement_states)\n",
    "\n",
    "\n",
    "# Compare ground truth and measurements\n",
    "plt.plot(ground_truth_states[:,0], ground_truth_states[:,1])\n",
    "plt.plot(motion_states[:,0], motion_states[:,1])\n",
    "plt.plot(measurement_states[:,0], measurement_states[:,1])\n",
    "plt.xlim(-1,12)\n",
    "plt.ylim(-1,12)\n",
    "plt.xlabel('x position')\n",
    "plt.ylabel('y position')\n",
    "plt.legend(['ground truth', 'motion model', 'measurements'])\n",
    "plt.gca().set_aspect('equal', adjustable='box')\n",
    "plt.show()"
   ]
  },
  {
   "cell_type": "markdown",
   "metadata": {},
   "source": [
    "As we can see, estimating states using noisy motion model and sensor measurement alone produces noisy state estimates. With Kalman filter, we can get a better state estimates by combining the prediction from motion model and sensor measurements.\n",
    "\n",
    "Let's implement the Kalman filter! Concretely, we just need to write two functions for the prediction and update steps, and to know when to call these functions."
   ]
  },
  {
   "cell_type": "markdown",
   "metadata": {},
   "source": [
    "**Prediction step**\n",
    "\n",
    "Recall the prediction step:\n",
    "1. $\\mu_{t|t-1} = A\\mu_{t-1|t-1} + B\\mathbf{u}_{t-1}$\n",
    "2. $\\Sigma_{t|t-1} = A\\Sigma_{t-1|t-1}A^T + Q$"
   ]
  },
  {
   "cell_type": "code",
   "execution_count": 3,
   "metadata": {},
   "outputs": [],
   "source": [
    "def predict(A, B, Q, u_t, mu_t, Sigma_t):\n",
    "    predicted_mu = A @ mu_t + B @ u_t\n",
    "    predicted_Sigma = A @ Sigma_t @ A.T + Q\n",
    "    return predicted_mu, predicted_Sigma"
   ]
  },
  {
   "cell_type": "markdown",
   "metadata": {},
   "source": [
    "**Update step**\n",
    "\n",
    "Recall the update step:\n",
    "1. Get measurement $\\mathbf{z}_{t}$\n",
    "2. Compute mean and covariance of the prediction residual $\\delta_{\\mu} = \\mathbf{z}_{t} - H\\mu_{t|t-1}$ and $\\delta_{\\Sigma} = H \\Sigma_{t|t-1} H^T + R$\n",
    "3. Compute Kalman gain $K_{t} = \\Sigma_{t|t-1} H^T \\delta_{\\Sigma}^{-1}$\n",
    "4. Compute mean and covariance of the belief $\\mu_{t | t} = \\mu_{t | t-1} + K\\delta_{\\mu}$ and $\\Sigma_{t | t} = \\Sigma_{t|t-1} - KH\\Sigma_{t|t-1}$"
   ]
  },
  {
   "cell_type": "code",
   "execution_count": 4,
   "metadata": {},
   "outputs": [],
   "source": [
    "def update(H, R, z, predicted_mu, predicted_Sigma):\n",
    "    residual_mean = z - H @ predicted_mu\n",
    "    residual_covariance = H @ predicted_Sigma @ H.T + R\n",
    "    kalman_gain = predicted_Sigma @ H.T @ np.linalg.inv(residual_covariance)\n",
    "    updated_mu = predicted_mu + kalman_gain @ residual_mean\n",
    "    updated_Sigma = predicted_Sigma - kalman_gain @ H @ predicted_Sigma\n",
    "    return updated_mu, updated_Sigma"
   ]
  },
  {
   "cell_type": "markdown",
   "metadata": {},
   "source": [
    "Let's now run our Kalman filter for 10 time steps!"
   ]
  },
  {
   "cell_type": "code",
   "execution_count": 5,
   "metadata": {},
   "outputs": [],
   "source": [
    "# Re-initialize the problem with the given information\n",
    "mu_0 = np.array([0, 0])\n",
    "Sigma_0 = np.array([[0.1, 0],\n",
    "                     [0, 0.1]])\n",
    "u_t = np.array([1, 1]) # we assume constant control input\n",
    "\n",
    "A = np.array([[1, 0],\n",
    "              [0, 1]])\n",
    "B = np.array([[1, 0],\n",
    "              [0, 1]])\n",
    "Q = np.array([[0.3, 0],\n",
    "              [0, 0.3]])\n",
    "H = np.array([[1, 0],\n",
    "              [0, 1]])\n",
    "R = np.array([[0.75, 0],\n",
    "              [0, 0.6]])\n",
    "\n",
    "# Initialize empty lists to store the filtered states and measurements for plotting\n",
    "measurement_states = []\n",
    "filtered_states = []\n",
    "\n",
    "# Run KF for each time step\n",
    "mu_current = mu_0.copy()\n",
    "Sigma_current = Sigma_0.copy()\n",
    "for i in range(num_steps):\n",
    "    \n",
    "    # Predict step\n",
    "    predicted_mu, predicted_Sigma = predict(A, B, Q, u_t, mu_current, Sigma_current)\n",
    "    \n",
    "    # Get measurement (in real life, we get this from our sensor)    \n",
    "    measurement_noise = np.random.multivariate_normal(mean=np.array([0,0]), cov=R) # ~N(0,R)\n",
    "    new_measurement = H @ ground_truth_states[i+1] + measurement_noise # this is z_t\n",
    "    \n",
    "    # The rest of update step\n",
    "    mu_current, Sigma_current = update(H, R, new_measurement, predicted_mu, predicted_Sigma)\n",
    "    \n",
    "    # Store measurements and mu_current so we can plot it later\n",
    "    measurement_states.append(new_measurement)\n",
    "    filtered_states.append(mu_current)\n",
    "\n",
    "# For plotting purposes, convert the lists to array\n",
    "measurement_states = np.array(measurement_states)\n",
    "filtered_states = np.array(filtered_states) "
   ]
  },
  {
   "cell_type": "code",
   "execution_count": 6,
   "metadata": {},
   "outputs": [
    {
     "data": {
      "image/png": "[encoded data removed]",
      "text/plain": [
       "<Figure size 432x288 with 1 Axes>"
      ]
     },
     "metadata": {
      "needs_background": "light"
     },
     "output_type": "display_data"
    }
   ],
   "source": [
    "# Let's plot the results\n",
    "\n",
    "plt.plot(ground_truth_states[:,0], ground_truth_states[:,1]) # from previous section\n",
    "plt.plot(motion_states[:,0], motion_states[:,1]) # from previous section\n",
    "plt.plot(measurement_states[:,0], measurement_states[:,1])\n",
    "plt.plot(filtered_states[:,0], filtered_states[:,1])\n",
    "plt.xlim(-1,12)\n",
    "plt.ylim(-1,12)\n",
    "plt.xlabel('x position')\n",
    "plt.ylabel('y position')\n",
    "plt.legend(['ground truth', 'motion model', 'measurements', 'KF'])\n",
    "plt.gca().set_aspect('equal', adjustable='box')\n",
    "plt.show()"
   ]
  },
  {
   "cell_type": "markdown",
   "metadata": {},
   "source": [
    "As we see above, the state estimation from using KF seems to be better compared to motion model and sensor measurement! I encourage you to copy this notebook and play around with all the parameters that may affect the performance of KF :)"
   ]
  },
  {
   "cell_type": "code",
   "execution_count": null,
   "metadata": {},
   "outputs": [],
   "source": []
  }
 ],
 "metadata": {
  "kernelspec": {
   "display_name": "Python 3",
   "language": "python",
   "name": "python3"
  },
  "language_info": {
   "codemirror_mode": {
    "name": "ipython",
    "version": 3
   },
   "file_extension": ".py",
   "mimetype": "text/x-python",
   "name": "python",
   "nbconvert_exporter": "python",
   "pygments_lexer": "ipython3",
   "version": "3.8.5"
  }
 },
 "nbformat": 4,
 "nbformat_minor": 4
}
