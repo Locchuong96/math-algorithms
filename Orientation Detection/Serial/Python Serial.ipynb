{
 "cells": [
  {
   "cell_type": "markdown",
   "id": "7f01f0a5",
   "metadata": {},
   "source": [
    "## Open port   COM5 with 115200 None parity bit and 1 stopbit"
   ]
  },
  {
   "cell_type": "code",
   "execution_count": 1,
   "id": "7e00d33c",
   "metadata": {},
   "outputs": [
    {
     "name": "stdout",
     "output_type": "stream",
     "text": [
      "COM5\n"
     ]
    }
   ],
   "source": [
    "import serial \n",
    "ser = serial.Serial('COM5') #'dev/ttyUSB0' if linux\n",
    "print(ser.name)\n",
    "ser.write(b'A') # write a string\n",
    "ser.close()"
   ]
  },
  {
   "cell_type": "markdown",
   "id": "c72017c4",
   "metadata": {},
   "source": [
    "## Open named port at 115200 baud rate bytesize = 8 None parity bit and 1 stopbit, timeout  = 1s"
   ]
  },
  {
   "cell_type": "markdown",
   "id": "2a864fc0",
   "metadata": {},
   "source": [
    "### read one byte\n",
    "\n",
    "1 int = 2 bytes\n",
    "\n",
    "1 float = 1 double = 4 bytes\n",
    "\n",
    "    void setup(){\n",
    "      Serial.begin(115200);\n",
    "      }\n",
    "\n",
    "     void loop(){\n",
    "      delay(100);\n",
    "      Serial.write(1);\n",
    "      }\n",
    "      \n",
    "#### b'\\x02' meaning 1 byte HEX type"
   ]
  },
  {
   "cell_type": "code",
   "execution_count": 107,
   "id": "1d877cdc",
   "metadata": {},
   "outputs": [
    {
     "name": "stdout",
     "output_type": "stream",
     "text": [
      "b'\\x02'\n"
     ]
    }
   ],
   "source": [
    "with serial.Serial('COM5',115200,timeout = 1) as ser:\n",
    "    x = ser.read()\n",
    "    \n",
    "# auto close connection\n",
    "print(x)"
   ]
  },
  {
   "cell_type": "markdown",
   "id": "7a3c3430",
   "metadata": {},
   "source": [
    "### read n bytes\n",
    "\n",
    "This function will read until n leght byte and return it\n",
    "\n",
    "    void setup(){\n",
    "      Serial.begin(115200);\n",
    "      }\n",
    "\n",
    "     void loop(){\n",
    "      int a= 1;\n",
    "      send2byte(&a);\n",
    "      delay(100);\n",
    "      }\n",
    "\n",
    "    void send2byte(int* data1){\n",
    "      byte* bytedata1 = (byte*)(data1);\n",
    "      byte buf[2]= { bytedata1[0],bytedata1[1] };\n",
    "      Serial.write(buf,2);\n",
    "      }"
   ]
  },
  {
   "cell_type": "code",
   "execution_count": 139,
   "id": "3f71da45",
   "metadata": {},
   "outputs": [
    {
     "name": "stdout",
     "output_type": "stream",
     "text": [
      "b'A'\n"
     ]
    }
   ],
   "source": [
    "with serial.Serial('COM5',115200,timeout = 1) as ser:\n",
    "    x = ser.read(1) # read one byte\n",
    "print(x)"
   ]
  },
  {
   "attachments": {
    "image-4.png": {
     "image/png": "[encoded data removed]"
    }
   },
   "cell_type": "markdown",
   "id": "ae6291c0",
   "metadata": {},
   "source": [
    "![image-4.png](attachment:image-4.png)\n",
    "\n",
    "    Serial.write(\"a\")   = b'a'\n",
    "    Serial.write(\"ab\")  = b'a'    # one byte\n",
    "    Serial.write(\"ab\")  = b'ab'   # two bytes decode \"ab\"\n",
    "    Serial.write(2)     = b'\\x02' # return"
   ]
  },
  {
   "cell_type": "markdown",
   "id": "cb65ee26",
   "metadata": {},
   "source": [
    "## read a '\\n' terminated line\n",
    "\n",
    "    void setup(){\n",
    "      Serial.begin(115200);\n",
    "      }\n",
    "\n",
    "     void loop(){\n",
    "      // int a= 2;\n",
    "      // send2byte(&a);\n",
    "      Serial.write(65);\n",
    "      Serial.write(10); // 10 = \\n\n",
    "      delay(100);\n",
    "      }"
   ]
  },
  {
   "cell_type": "code",
   "execution_count": 145,
   "id": "558a6a17",
   "metadata": {},
   "outputs": [
    {
     "name": "stdout",
     "output_type": "stream",
     "text": [
      "b'A\\n'\n"
     ]
    }
   ],
   "source": [
    "with serial.Serial('COM5',115200,timeout = 1) as ser:\n",
    "    l = ser.readline() # read a '\\n' terminated line\n",
    "print(l)"
   ]
  },
  {
   "cell_type": "markdown",
   "id": "54de7fd4",
   "metadata": {},
   "source": [
    "## Open named port 38400,8,E,1 non blocking HW handshaking"
   ]
  },
  {
   "cell_type": "code",
   "execution_count": null,
   "id": "e0748a23",
   "metadata": {},
   "outputs": [],
   "source": [
    "ser = serial.Serial('COM5',38400, timeout = 0, parity = serial.PARITY_EVEN, rtscts = 1)\n",
    "\n",
    "s = ser.read(100)"
   ]
  },
  {
   "cell_type": "markdown",
   "id": "658e75b6",
   "metadata": {},
   "source": [
    "## Configuring ports later"
   ]
  },
  {
   "cell_type": "code",
   "execution_count": 146,
   "id": "0c79c0f1",
   "metadata": {},
   "outputs": [
    {
     "name": "stdout",
     "output_type": "stream",
     "text": [
      "Serial<id=0x4e10370, open=False>(port='COM5', baudrate=115200, bytesize=8, parity='N', stopbits=1, timeout=None, xonxoff=False, rtscts=False, dsrdtr=False)\n"
     ]
    }
   ],
   "source": [
    "ser = serial.Serial()\n",
    "ser.baudrate = 115200\n",
    "ser.port = 'COM5'\n",
    "print(ser)"
   ]
  },
  {
   "cell_type": "code",
   "execution_count": 150,
   "id": "b77c3ac0",
   "metadata": {},
   "outputs": [
    {
     "data": {
      "text/plain": [
       "True"
      ]
     },
     "execution_count": 150,
     "metadata": {},
     "output_type": "execute_result"
    }
   ],
   "source": [
    "# open port\n",
    "ser.open()\n",
    "ser.is_open"
   ]
  },
  {
   "cell_type": "code",
   "execution_count": 10,
   "id": "13095ff3",
   "metadata": {},
   "outputs": [
    {
     "data": {
      "text/plain": [
       "False"
      ]
     },
     "execution_count": 10,
     "metadata": {},
     "output_type": "execute_result"
    }
   ],
   "source": [
    "# close port\n",
    "ser.close()\n",
    "ser.is_open"
   ]
  },
  {
   "cell_type": "markdown",
   "id": "8094c7ea",
   "metadata": {},
   "source": [
    "    void setup(){\n",
    "      Serial.begin(115200);\n",
    "      pinMode(LED_BUILTIN,OUTPUT);\n",
    "      digitalWrite(LED_BUILTIN,HIGH);\n",
    "      }\n",
    "\n",
    "     void loop(){\n",
    "      char a = 'x';\n",
    "\n",
    "      if(Serial.available()){\n",
    "        a = Serial.read();\n",
    "        if( a == 'A'){\n",
    "          digitalWrite(LED_BUILTIN,LOW);\n",
    "          delay(1000);\n",
    "          digitalWrite(LED_BUILTIN,HIGH);\n",
    "          }\n",
    "        }\n",
    "      }\n"
   ]
  },
  {
   "cell_type": "markdown",
   "id": "fbd12db3",
   "metadata": {},
   "source": [
    "    char myChar = 'A';\n",
    "    char myChar = 65;      // both are equivalent"
   ]
  },
  {
   "cell_type": "code",
   "execution_count": 12,
   "id": "3bfab0f5",
   "metadata": {},
   "outputs": [
    {
     "name": "stdout",
     "output_type": "stream",
     "text": [
      "A\n"
     ]
    }
   ],
   "source": [
    "# ser.write(str.encode('allon'))\n",
    "# ser.write(b'\\x0101')\n",
    "\n",
    "a = 'A'\n",
    "with serial.Serial() as ser:\n",
    "    ser.baudrate = 115200\n",
    "    ser.port = 'COM5'\n",
    "    ser.open()\n",
    "    ser.write(a.encode())\n",
    "    print(a)\n",
    "    ser.close()"
   ]
  },
  {
   "cell_type": "markdown",
   "id": "dcbcb682",
   "metadata": {},
   "source": [
    "    void setup(){\n",
    "      Serial.begin(115200);\n",
    "      pinMode(LED_BUILTIN,OUTPUT);\n",
    "      digitalWrite(LED_BUILTIN,HIGH);\n",
    "      }\n",
    "\n",
    "     void loop(){\n",
    "      String a = \"Hello String\";\n",
    "\n",
    "      if(Serial.available()){\n",
    "        a = Serial.read();\n",
    "        if( a == \"hello\"){\n",
    "          digitalWrite(LED_BUILTIN,LOW);\n",
    "          delay(1000);\n",
    "          digitalWrite(LED_BUILTIN,HIGH);\n",
    "          }\n",
    "        }\n",
    "      }"
   ]
  },
  {
   "cell_type": "code",
   "execution_count": 192,
   "id": "2b0f22a0",
   "metadata": {},
   "outputs": [],
   "source": [
    "# Assuming that text is a bytes object, just use text.decode('utf-8')\n",
    "# unicode of Python2 is equivalent to str in Python3, so you can also write:\n",
    "\n",
    "with serial.Serial() as ser:\n",
    "    ser.baudrate = 115200\n",
    "    ser.port  = 'COM5'\n",
    "    ser.open()\n",
    "    ser.write(str.encode(\"hello\"))  #ser.write(b'hello') ser.write(str.encode(\"hello\"))\n",
    "    ser.close()"
   ]
  },
  {
   "cell_type": "markdown",
   "id": "837ba4e2",
   "metadata": {},
   "source": [
    "    String InBytes;\n",
    "\n",
    "    void setup(){\n",
    "      Serial.begin(115200);\n",
    "      pinMode(LED_BUILTIN,OUTPUT);\n",
    "      digitalWrite(LED_BUILTIN,HIGH);\n",
    "      }\n",
    "\n",
    "    void loop(){\n",
    "      if (Serial.available()>0){\n",
    "        InBytes = Serial.readStringUntil('\\n');\n",
    "        if (InBytes == \"on\"){\n",
    "          digitalWrite(LED_BUILTIN,LOW);\n",
    "          Serial.write(\"Led on\");\n",
    "          }\n",
    "        if (InBytes == \"off\"){\n",
    "          digitalWrite(LED_BUILTIN,HIGH);\n",
    "          Serial.write(\"Led off\");\n",
    "          }\n",
    "        else{\n",
    "          Serial.write(\"Invalid input\");\n",
    "          }\n",
    "        }\n",
    "      }\n"
   ]
  },
  {
   "cell_type": "code",
   "execution_count": 19,
   "id": "b229df71",
   "metadata": {},
   "outputs": [
    {
     "name": "stdout",
     "output_type": "stream",
     "text": [
      "input(on/off): on\n",
      "on\n",
      "Led onInvalid input\n",
      "input(on/off): off\n",
      "off\n",
      "Led off\n",
      "input(on/off): on\n",
      "on\n",
      "Led onInvalid input\n",
      "input(on/off): on\n",
      "on\n",
      "Led onInvalid input\n",
      "input(on/off): done\n",
      "done\n",
      "finished program\n"
     ]
    }
   ],
   "source": [
    "import serial\n",
    "import time\n",
    "ser = serial.Serial('COM5',115200)\n",
    "ser.timeout = 1\n",
    "\n",
    "while True:\n",
    "    i = input(\"input(on/off): \")\n",
    "    print(i)\n",
    "    if i == \"done\":\n",
    "        print(\"finished program\")\n",
    "        break\n",
    "    ser.write(i.encode())\n",
    "    time.sleep(0.5)\n",
    "    print(ser.readline().decode()) # ser.realine().decode('ascii')\n",
    "    \n",
    "ser.close()"
   ]
  },
  {
   "cell_type": "markdown",
   "id": "00a3dd44",
   "metadata": {},
   "source": [
    "## EOL"
   ]
  },
  {
   "cell_type": "code",
   "execution_count": 190,
   "id": "249ef312",
   "metadata": {},
   "outputs": [
    {
     "name": "stdout",
     "output_type": "stream",
     "text": [
      "False\n"
     ]
    }
   ],
   "source": [
    "import serial\n",
    "import io\n",
    "\n",
    "a = str.encode(\"hello\")\n",
    "ser = serial.serial_for_url('loop://',timeout = 1)\n",
    "sio = io.TextIOWrapper(io.BufferedRWPair(ser,ser))\n",
    "\n",
    "sio.write(\"hello\")\n",
    "sio.flush() # it is the buffering, required to get the data out\n",
    "hello = sio.readline()\n",
    "print(hello == a)"
   ]
  },
  {
   "cell_type": "markdown",
   "id": "6164f857",
   "metadata": {},
   "source": [
    "## Testing ports"
   ]
  },
  {
   "cell_type": "markdown",
   "id": "15a5819e",
   "metadata": {},
   "source": [
    "### Listing ports"
   ]
  },
  {
   "cell_type": "code",
   "execution_count": 194,
   "id": "8d5c2dd7",
   "metadata": {},
   "outputs": [
    {
     "ename": "AttributeError",
     "evalue": "module 'serial' has no attribute 'tools'",
     "output_type": "error",
     "traceback": [
      "\u001b[1;31m---------------------------------------------------------------------------\u001b[0m",
      "\u001b[1;31mAttributeError\u001b[0m                            Traceback (most recent call last)",
      "\u001b[1;32m<ipython-input-194-4705a63e446f>\u001b[0m in \u001b[0;36m<module>\u001b[1;34m\u001b[0m\n\u001b[1;32m----> 1\u001b[1;33m \u001b[0mserial\u001b[0m\u001b[1;33m.\u001b[0m\u001b[0mtools\u001b[0m\u001b[1;33m.\u001b[0m\u001b[0mlist_ports\u001b[0m\u001b[1;33m\u001b[0m\u001b[1;33m\u001b[0m\u001b[0m\n\u001b[0m",
      "\u001b[1;31mAttributeError\u001b[0m: module 'serial' has no attribute 'tools'"
     ]
    }
   ],
   "source": [
    "serial.tools.list_ports"
   ]
  },
  {
   "cell_type": "markdown",
   "id": "d9788943",
   "metadata": {},
   "source": [
    "### Accessing ports"
   ]
  },
  {
   "cell_type": "code",
   "execution_count": 197,
   "id": "b1b3e858",
   "metadata": {},
   "outputs": [
    {
     "ename": "AttributeError",
     "evalue": "module 'serial' has no attribute 'tools'",
     "output_type": "error",
     "traceback": [
      "\u001b[1;31m---------------------------------------------------------------------------\u001b[0m",
      "\u001b[1;31mAttributeError\u001b[0m                            Traceback (most recent call last)",
      "\u001b[1;32m<ipython-input-197-170c5c7ed160>\u001b[0m in \u001b[0;36m<module>\u001b[1;34m\u001b[0m\n\u001b[1;32m----> 1\u001b[1;33m \u001b[0mserial\u001b[0m\u001b[1;33m.\u001b[0m\u001b[0mtools\u001b[0m\u001b[1;33m.\u001b[0m\u001b[0mminiterm\u001b[0m\u001b[1;33m\u001b[0m\u001b[1;33m\u001b[0m\u001b[0m\n\u001b[0m",
      "\u001b[1;31mAttributeError\u001b[0m: module 'serial' has no attribute 'tools'"
     ]
    }
   ],
   "source": [
    "serial.tools.miniterm"
   ]
  },
  {
   "cell_type": "code",
   "execution_count": 4,
   "id": "79fa4b1c",
   "metadata": {},
   "outputs": [
    {
     "name": "stdout",
     "output_type": "stream",
     "text": [
      "<class 'int'>\n",
      "[1, 4, 6, 8]\n",
      "<class 'str'>\n"
     ]
    }
   ],
   "source": [
    "l = [1,4,6,8]\n",
    "print(type(l[0]))\n",
    "\n",
    "a = str(l)\n",
    "\n",
    "print(a)\n",
    "print(type(a[0]))"
   ]
  },
  {
   "cell_type": "markdown",
   "id": "cb8cad57",
   "metadata": {},
   "source": [
    "In short, the bytes type is a sequence of bytes that have been encoded and are ready to be stored in memory/disk. There are many types of encodings (utf-8, utf-16, windows-1255), which all handle the bytes differently. The bytes object can be decoded into a str type.\n",
    "\n",
    "The str type is a sequence of unicode characters. The str needs to be encoded to be stored, but is mutable and an abstraction of the bytes logic.\n",
    "\n",
    "There is a strong relationship between str and bytes. bytes can be decoded into a str, and strs can be encoded into bytes."
   ]
  },
  {
   "cell_type": "code",
   "execution_count": 40,
   "id": "3bffebfa",
   "metadata": {},
   "outputs": [
    {
     "name": "stdout",
     "output_type": "stream",
     "text": [
      "<class 'bytes'>\n"
     ]
    }
   ],
   "source": [
    "a= b'\\xAA'\n",
    "print(type(a))"
   ]
  },
  {
   "cell_type": "code",
   "execution_count": 52,
   "id": "6d86f6f2",
   "metadata": {},
   "outputs": [
    {
     "name": "stdout",
     "output_type": "stream",
     "text": [
      "decode ascii:  \n",
      "decode utf-8  \n"
     ]
    }
   ],
   "source": [
    "a= b'\\x7F'\n",
    "print(\"decode ascii: \",a.decode(\"ascii\"))\n",
    "print(\"decode utf-8 \",a.decode(\"utf-8\"))"
   ]
  },
  {
   "cell_type": "code",
   "execution_count": 53,
   "id": "0201d9ba",
   "metadata": {},
   "outputs": [
    {
     "name": "stdout",
     "output_type": "stream",
     "text": [
      "<class 'bytes'>\n"
     ]
    },
    {
     "ename": "UnicodeDecodeError",
     "evalue": "'ascii' codec can't decode byte 0xa2 in position 1: ordinal not in range(128)",
     "output_type": "error",
     "traceback": [
      "\u001b[1;31m---------------------------------------------------------------------------\u001b[0m",
      "\u001b[1;31mUnicodeDecodeError\u001b[0m                        Traceback (most recent call last)",
      "\u001b[1;32m<ipython-input-53-a7a44f42fedc>\u001b[0m in \u001b[0;36m<module>\u001b[1;34m\u001b[0m\n\u001b[0;32m      1\u001b[0m \u001b[0ma\u001b[0m \u001b[1;33m=\u001b[0m \u001b[1;34mb'\\x02\\xA2'\u001b[0m\u001b[1;33m\u001b[0m\u001b[1;33m\u001b[0m\u001b[0m\n\u001b[0;32m      2\u001b[0m \u001b[0mprint\u001b[0m\u001b[1;33m(\u001b[0m\u001b[0mtype\u001b[0m\u001b[1;33m(\u001b[0m\u001b[0ma\u001b[0m\u001b[1;33m)\u001b[0m\u001b[1;33m)\u001b[0m\u001b[1;33m\u001b[0m\u001b[1;33m\u001b[0m\u001b[0m\n\u001b[1;32m----> 3\u001b[1;33m \u001b[0mprint\u001b[0m\u001b[1;33m(\u001b[0m\u001b[0ma\u001b[0m\u001b[1;33m.\u001b[0m\u001b[0mdecode\u001b[0m\u001b[1;33m(\u001b[0m\u001b[1;34m\"ascii\"\u001b[0m\u001b[1;33m)\u001b[0m\u001b[1;33m)\u001b[0m\u001b[1;33m\u001b[0m\u001b[1;33m\u001b[0m\u001b[0m\n\u001b[0m",
      "\u001b[1;31mUnicodeDecodeError\u001b[0m: 'ascii' codec can't decode byte 0xa2 in position 1: ordinal not in range(128)"
     ]
    }
   ],
   "source": [
    "a = b'\\x02\\xA2'\n",
    "print(type(a))\n",
    "print(a.decode(\"ascii\"))"
   ]
  },
  {
   "cell_type": "markdown",
   "id": "84ba801d",
   "metadata": {},
   "source": [
    "    float a = 0;\n",
    "    float b = 0;\n",
    "\n",
    "    void setup() {\n",
    "      // put your setup code here, to run once:\n",
    "      Serial.begin(115200);\n",
    "    }\n",
    "\n",
    "    void loop() {\n",
    "      // put your main code here, to run repeatedly:\n",
    "      a ++;\n",
    "      b = a +1;\n",
    "      Serial.print(a);\n",
    "      Serial.print(\"x\");\n",
    "      Serial.println(b);\n",
    "      delay(100);\n",
    "    }"
   ]
  },
  {
   "cell_type": "code",
   "execution_count": 1,
   "id": "8f97ba3b",
   "metadata": {},
   "outputs": [
    {
     "name": "stdout",
     "output_type": "stream",
     "text": [
      "Serial<id=0x4dbbfd0, open=True>(port='COM5', baudrate=115200, bytesize=8, parity='N', stopbits=1, timeout=1, xonxoff=False, rtscts=False, dsrdtr=False)\n",
      "[114.0, 115.0]\n"
     ]
    }
   ],
   "source": [
    "import serial\n",
    "\n",
    "ser = serial.Serial(\"COM5\",115200,timeout = 1)\n",
    "print(ser)\n",
    "\n",
    "# readline to data\n",
    "data = ser.readline()\n",
    "\n",
    "# decode bytes to string\n",
    "data = ser.readline().decode()\n",
    "\n",
    "#split the string into list\n",
    "l = data.split('x')\n",
    "\n",
    "# turn into float number\n",
    "real_data = []\n",
    "for i in l:\n",
    "    i = i.replace('\\r\\n','')\n",
    "    real_data.append(float(i))\n",
    "    \n",
    "print(real_data)\n",
    "ser.close()\n"
   ]
  },
  {
   "cell_type": "code",
   "execution_count": null,
   "id": "801a676f",
   "metadata": {},
   "outputs": [],
   "source": [
    "ser.close()"
   ]
  },
  {
   "cell_type": "markdown",
   "id": "8a3d3fae",
   "metadata": {},
   "source": [
    "    float a = 0;\n",
    "    float b = 0;\n",
    "\n",
    "    void setup() {\n",
    "      // put your setup code here, to run once:\n",
    "      Serial.begin(115200);\n",
    "    }\n",
    "\n",
    "    void loop() {\n",
    "      // put your main code here, to run repeatedly:\n",
    "      a = 1;\n",
    "      b = a +1;\n",
    "      sendtoPC(&a,&b);\n",
    "      Serial.println();\n",
    "    //  Serial.print(a);\n",
    "    //  Serial.print(\"x\");\n",
    "    //  Serial.println(b);\n",
    "       //delay(1000);\n",
    "    }\n",
    "\n",
    "    void sendtoPC(float* data1, float* data2){\n",
    "      byte* bytedata1 = (byte*)(data1);\n",
    "      byte* bytedata2 = (byte*)(data2);\n",
    "      byte buf[4] = {bytedata1[0],bytedata1[1],\n",
    "                      bytedata2[0],bytedata2[1]};\n",
    "      }"
   ]
  },
  {
   "cell_type": "code",
   "execution_count": 41,
   "id": "353b7207",
   "metadata": {},
   "outputs": [
    {
     "name": "stdout",
     "output_type": "stream",
     "text": [
      "bytearray(b'\\x00\\x00\\x00\\x00')\n"
     ]
    }
   ],
   "source": [
    "dataNumBytes = 4\n",
    "numParams = 1\n",
    "\n",
    "a = bytearray(numParams * dataNumBytes)\n",
    "\n",
    "print(a)"
   ]
  },
  {
   "cell_type": "code",
   "execution_count": 42,
   "id": "2bb32f96",
   "metadata": {},
   "outputs": [
    {
     "name": "stdout",
     "output_type": "stream",
     "text": [
      "b'\\n\\r\\n\\r\\n\\r\\n\\r'\n"
     ]
    }
   ],
   "source": [
    "import serial\n",
    "\n",
    "ser = serial.Serial(\"COM5\",115200);\n",
    "\n",
    "data = ser.read(8)\n",
    "\n",
    "print(data)\n",
    "\n",
    "ser.close()"
   ]
  },
  {
   "cell_type": "markdown",
   "id": "6ce9faee",
   "metadata": {},
   "source": [
    "## list ports\n",
    "\n",
    "python -m serial.tools.list_ports -v"
   ]
  },
  {
   "cell_type": "markdown",
   "id": "f934e424",
   "metadata": {},
   "source": [
    "## serial.tools.miniterm\n",
    "\n",
    "-m  serial.tools.miniterm -h"
   ]
  },
  {
   "cell_type": "markdown",
   "id": "c0b8de4a",
   "metadata": {},
   "source": [
    "## serial_for_url()\n",
    "\n",
    "    • rfc2217://<host>:<port>[?<option>[&<option>...]]\n",
    "    • socket://<host>:<port>[?logging={debug|info|warning|error}]\n",
    "    • loop://[?logging={debug|info|warning|error}]\n",
    "    • hwgrep://<regexp>[&skip_busy][&n=N]\n",
    "    • spy://port[?option[=value][&option[=value]]]\n",
    "    • alt://port?class=<classname>\n",
    "    \n",
    "    • rfc2217://localhost:7000\n",
    "    • rfc2217://localhost:7000?poll_modem\n",
    "    • rfc2217://localhost:7000?ign_set_control&timeout=5.5\n",
    "    • socket://localhost:7777\n",
    "    • loop://?logging=debug\n",
    "    • hwgrep://0451:f432 (USB VID:PID)\n",
    "    • spy://COM54?file=log.txt\n",
    "    • alt:///dev/ttyUSB0?class=PosixPollSerial"
   ]
  },
  {
   "cell_type": "code",
   "execution_count": 3,
   "id": "c45adb29",
   "metadata": {},
   "outputs": [
    {
     "name": "stdout",
     "output_type": "stream",
     "text": [
      "000000.002 DTR  inactive\n",
      "000000.002 TX   0000  68 65 6C 6C 6F 20 77 6F  72 6C 64                 hello world     \n",
      "000001.004 DTR  active\n",
      "000001.004 TX   0000  00 01 02 03 04 05 06 07  08 09 0A 0B 0C 0D 0E 0F  ................\n",
      "000001.005 TX   0010  10 11 12 13 14 15 16 17  18 19 1A 1B 1C 1D 1E 1F  ................\n",
      "000001.005 TX   0020  20 21 22 23 24 25 26 27  28 29 2A 2B 2C 2D 2E 2F   !\"#$%&'()*+,-./\n",
      "000001.005 TX   0030  30 31 32 33 34 35 36 37  38 39 3A 3B 3C 3D 3E 3F  0123456789:;<=>?\n",
      "000001.005 TX   0040  40 41 42 43 44 45 46 47  48 49 4A 4B 4C 4D 4E 4F  @ABCDEFGHIJKLMNO\n",
      "000001.005 TX   0050  50 51 52 53 54 55 56 57  58 59 5A 5B 5C 5D 5E 5F  PQRSTUVWXYZ[\\]^_\n",
      "000001.006 TX   0060  60 61 62 63 64 65 66 67  68 69 6A 6B 6C 6D 6E 6F  `abcdefghijklmno\n",
      "000001.006 TX   0070  70 71 72 73 74 75 76 77  78 79 7A 7B 7C 7D 7E 7F  pqrstuvwxyz{|}~.\n",
      "000001.006 TX   0080  80 81 82 83 84 85 86 87  88 89 8A 8B 8C 8D 8E 8F  ................\n",
      "000001.006 TX   0090  90 91 92 93 94 95 96 97  98 99 9A 9B 9C 9D 9E 9F  ................\n",
      "000001.006 TX   00A0  A0 A1 A2 A3 A4 A5 A6 A7  A8 A9 AA AB AC AD AE AF  ................\n",
      "000001.006 TX   00B0  B0 B1 B2 B3 B4 B5 B6 B7  B8 B9 BA BB BC BD BE BF  ................\n",
      "000001.007 TX   00C0  C0 C1 C2 C3 C4 C5 C6 C7  C8 C9 CA CB CC CD CE CF  ................\n",
      "000001.007 TX   00D0  D0 D1 D2 D3 D4 D5 D6 D7  D8 D9 DA DB DC DD DE DF  ................\n",
      "000001.007 TX   00E0  E0 E1 E2 E3 E4 E5 E6 E7  E8 E9 EA EB EC ED EE EF  ................\n",
      "000001.007 TX   00F0  F0 F1 F2 F3 F4 F5 F6 F7  F8 F9 FA FB FC FD FE FF  ................\n",
      "000002.210 RX   0000  32 A4 64 6C 48 68 48 C8  08 A4 48 62 3E 98 59 D6  2.dlHhH...Hb>.Y.\n",
      "000002.210 RX   0010  B4 70 D8 48 F8                                    .p.H.           \n",
      "000002.210 BRK  send_break 0.25s\n",
      "000002.210 BRK  active\n",
      "000002.461 BRK  inactive\n",
      "000002.461 Q-RX cancel_read\n",
      "000002.461 Q-TX cancel_write\n",
      "\n"
     ]
    }
   ],
   "source": [
    "import serial\n",
    "with serial.serial_for_url('spy:///COM5?file=test.txt', timeout=1) as s:\n",
    "    s.dtr = False\n",
    "    s.write(str.encode('hello world'))\n",
    "    s.read(20)\n",
    "    s.dtr = True\n",
    "    s.write(serial.to_bytes(range(256)))\n",
    "    s.read(400)\n",
    "    s.send_break()\n",
    "with open('test.txt') as f:\n",
    "    print(f.read())\n"
   ]
  },
  {
   "cell_type": "code",
   "execution_count": null,
   "id": "3e6085ed",
   "metadata": {},
   "outputs": [],
   "source": []
  }
 ],
 "metadata": {
  "kernelspec": {
   "display_name": "Python 3",
   "language": "python",
   "name": "python3"
  },
  "language_info": {
   "codemirror_mode": {
    "name": "ipython",
    "version": 3
   },
   "file_extension": ".py",
   "mimetype": "text/x-python",
   "name": "python",
   "nbconvert_exporter": "python",
   "pygments_lexer": "ipython3",
   "version": "3.8.8"
  }
 },
 "nbformat": 4,
 "nbformat_minor": 5
}
